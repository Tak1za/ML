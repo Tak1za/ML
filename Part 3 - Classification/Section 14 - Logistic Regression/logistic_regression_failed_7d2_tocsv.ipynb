{
 "cells": [
  {
   "cell_type": "code",
   "execution_count": 1,
   "metadata": {},
   "outputs": [],
   "source": [
    "import csv"
   ]
  },
  {
   "cell_type": "code",
   "execution_count": 61,
   "metadata": {},
   "outputs": [],
   "source": [
    "with open('Failed_Aspects.csv', 'w', newline='') as out_file:\n",
    "    writer = csv.writer(out_file)\n",
    "    with open('Failed_Aspects.txt', 'r') as f:\n",
    "        for line in f:\n",
    "            rest = line[54:]\n",
    "            splitted = rest.split(' - ')\n",
    "            writer.writerow(splitted[-1].split(','))"
   ]
  },
  {
   "cell_type": "code",
   "execution_count": null,
   "metadata": {},
   "outputs": [],
   "source": []
  }
 ],
 "metadata": {
  "kernelspec": {
   "display_name": "Python 3",
   "language": "python",
   "name": "python3"
  },
  "language_info": {
   "codemirror_mode": {
    "name": "ipython",
    "version": 3
   },
   "file_extension": ".py",
   "mimetype": "text/x-python",
   "name": "python",
   "nbconvert_exporter": "python",
   "pygments_lexer": "ipython3",
   "version": "3.7.3"
  }
 },
 "nbformat": 4,
 "nbformat_minor": 2
}
